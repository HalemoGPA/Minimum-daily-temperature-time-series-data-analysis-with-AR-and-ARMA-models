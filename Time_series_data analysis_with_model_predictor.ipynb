{
 "cells": [
  {
   "cell_type": "markdown",
   "id": "d809c513",
   "metadata": {},
   "source": [
    "<h1 style=\"border-bottom:2px solid black;padding:3px;color:#222\">\n",
    "Import Required Libraries\n",
    "</h1>"
   ]
  },
  {
   "cell_type": "code",
   "execution_count": 1,
   "id": "a537e6d9",
   "metadata": {},
   "outputs": [],
   "source": [
    "# Ignore warnings\n",
    "import warnings \n",
    "warnings.filterwarnings(\"ignore\")\n",
    "\n",
    "# Utils\n",
    "import time\n",
    "\n",
    "# Libs for analysis\n",
    "import pandas as pd\n",
    "import numpy as np\n",
    "import matplotlib.pyplot as plt\n",
    "import plotly.express as px\n",
    "import seaborn as sns\n",
    "\n",
    "#libs for model\n",
    "from sklearn.metrics import mean_absolute_error\n",
    "from statsmodels.graphics.tsaplots import plot_acf, plot_pacf\n",
    "from statsmodels.tsa.ar_model import AutoReg\n",
    "from statsmodels.tsa.arima.model import ARIMA"
   ]
  },
  {
   "cell_type": "markdown",
   "id": "597a649d",
   "metadata": {},
   "source": [
    "<h1 style=\"border-bottom:2px solid black;padding:3px;color:#222\">\n",
    "Function for Wrangling data [importing - cleaning]\n",
    "</h1>"
   ]
  },
  {
   "cell_type": "code",
   "execution_count": 2,
   "id": "222f1994",
   "metadata": {},
   "outputs": [],
   "source": [
    "# function for wrangling data [importing - cleaning]\n",
    "def wrangle(file_path):\n",
    "    \n",
    "    # Get the data\n",
    "    df=pd.read_csv(file_path)\n",
    "    \n",
    "    # convert Date to datetime object \n",
    "    df[\"Date\"]=pd.to_datetime(df[\"Date\"])\n",
    "    \n",
    "    # set Date column as index\n",
    "    df.set_index(\"Date\",inplace=True)\n",
    "    \n",
    "    \n",
    "    # change the name of \"Daily minimum temperatures\" to make it shorter\n",
    "    df.rename(columns={\"Daily minimum temperatures\":\"mintemp\"},inplace=True)\n",
    "    \n",
    "    # fix values of temp column and change its type to float\n",
    "    df[\"mintemp\"]=df[\"mintemp\"].str.replace(\"?\",\"\").astype(float)\n",
    "    \n",
    "    # convert the dataframe to series\n",
    "    y=df[\"mintemp\"]\n",
    "    \n",
    "    # using resample to solve the problem of dates which are not in the data\n",
    "    y=y.resample(\"D\").sum().fillna(method=\"ffill\")\n",
    "    \n",
    "    return y"
   ]
  },
  {
   "cell_type": "markdown",
   "id": "33770dfb",
   "metadata": {},
   "source": [
    "<h1 style=\"border-bottom:2px solid black;padding:3px;color:#222\">\n",
    "Exploring Data\n",
    "</h1>"
   ]
  },
  {
   "cell_type": "code",
   "execution_count": 3,
   "id": "2af0b6fe",
   "metadata": {},
   "outputs": [],
   "source": [
    "y=wrangle(\"daily-minimum-temperatures-in-me.csv\")"
   ]
  },
  {
   "cell_type": "code",
   "execution_count": 4,
   "id": "bf8a7521",
   "metadata": {},
   "outputs": [
    {
     "data": {
      "text/plain": [
       "Date\n",
       "1981-01-01    20.7\n",
       "1981-01-02    17.9\n",
       "1981-01-03    18.8\n",
       "1981-01-04    14.6\n",
       "1981-01-05    15.8\n",
       "Freq: D, Name: mintemp, dtype: float64"
      ]
     },
     "execution_count": 4,
     "metadata": {},
     "output_type": "execute_result"
    }
   ],
   "source": [
    "y.head()"
   ]
  },
  {
   "cell_type": "code",
   "execution_count": 5,
   "id": "f12b58b7",
   "metadata": {},
   "outputs": [
    {
     "data": {
      "text/plain": [
       "DatetimeIndex(['1981-01-01', '1981-01-02', '1981-01-03', '1981-01-04',\n",
       "               '1981-01-05', '1981-01-06', '1981-01-07', '1981-01-08',\n",
       "               '1981-01-09', '1981-01-10',\n",
       "               ...\n",
       "               '1990-12-22', '1990-12-23', '1990-12-24', '1990-12-25',\n",
       "               '1990-12-26', '1990-12-27', '1990-12-28', '1990-12-29',\n",
       "               '1990-12-30', '1990-12-31'],\n",
       "              dtype='datetime64[ns]', name='Date', length=3652, freq='D')"
      ]
     },
     "execution_count": 5,
     "metadata": {},
     "output_type": "execute_result"
    }
   ],
   "source": [
    "y.index"
   ]
  },
  {
   "cell_type": "code",
   "execution_count": 6,
   "id": "9a2265bd",
   "metadata": {},
   "outputs": [
    {
     "data": {
      "text/plain": [
       "0"
      ]
     },
     "execution_count": 6,
     "metadata": {},
     "output_type": "execute_result"
    }
   ],
   "source": [
    "y.isna().sum()"
   ]
  },
  {
   "cell_type": "code",
   "execution_count": 7,
   "id": "868b629b",
   "metadata": {},
   "outputs": [
    {
     "name": "stdout",
     "output_type": "stream",
     "text": [
      "<class 'pandas.core.series.Series'>\n",
      "DatetimeIndex: 3652 entries, 1981-01-01 to 1990-12-31\n",
      "Freq: D\n",
      "Series name: mintemp\n",
      "Non-Null Count  Dtype  \n",
      "--------------  -----  \n",
      "3652 non-null   float64\n",
      "dtypes: float64(1)\n",
      "memory usage: 57.1 KB\n"
     ]
    }
   ],
   "source": [
    "y.info()"
   ]
  },
  {
   "cell_type": "markdown",
   "id": "33740795",
   "metadata": {},
   "source": [
    "<p style=\"border-bottom:8px solid #333;padding:5px;\">\n",
    "\n",
    "</p>"
   ]
  },
  {
   "cell_type": "code",
   "execution_count": 8,
   "id": "f7fa7e73",
   "metadata": {
    "scrolled": false
   },
   "outputs": [
    {
     "data": {
      "image/png": "[encoded data removed]",
      "text/plain": [
       "<Figure size 800x500 with 1 Axes>"
      ]
     },
     "metadata": {},
     "output_type": "display_data"
    }
   ],
   "source": [
    "fig,ax=plt.subplots(figsize=(8,5))\n",
    "y.plot(ax=ax)\n",
    "plt.show()"
   ]
  },
  {
   "cell_type": "code",
   "execution_count": 9,
   "id": "5c75245a",
   "metadata": {
    "scrolled": false
   },
   "outputs": [
    {
     "data": {
      "image/png": "[encoded data removed]",
      "text/plain": [
       "<Figure size 800x500 with 1 Axes>"
      ]
     },
     "metadata": {},
     "output_type": "display_data"
    }
   ],
   "source": [
    "fig,ax=plt.subplots(figsize=(8,5))\n",
    "plot_acf(y,ax=ax)\n",
    "plt.show()"
   ]
  },
  {
   "cell_type": "code",
   "execution_count": 10,
   "id": "2b653a83",
   "metadata": {
    "scrolled": false
   },
   "outputs": [
    {
     "data": {
      "image/png": "[encoded data removed]",
      "text/plain": [
       "<Figure size 800x500 with 1 Axes>"
      ]
     },
     "metadata": {},
     "output_type": "display_data"
    }
   ],
   "source": [
    "fig,ax=plt.subplots(figsize=(8,5))\n",
    "plot_pacf(y,ax=ax)\n",
    "plt.show()"
   ]
  },
  {
   "cell_type": "markdown",
   "id": "e31ea659",
   "metadata": {},
   "source": [
    "<h1 style=\"border-bottom:2px solid black;padding:3px;color:#222\">\n",
    "Split Data\n",
    "</h1>"
   ]
  },
  {
   "cell_type": "code",
   "execution_count": 11,
   "id": "afbcd118",
   "metadata": {},
   "outputs": [],
   "source": [
    "y_cutoff=int(len(y)*.95)\n",
    "y_train=y.iloc[ : y_cutoff]\n",
    "y_test=y.iloc[y_cutoff : ]"
   ]
  },
  {
   "cell_type": "code",
   "execution_count": 12,
   "id": "1737080b",
   "metadata": {},
   "outputs": [
    {
     "data": {
      "text/plain": [
       "183"
      ]
     },
     "execution_count": 12,
     "metadata": {},
     "output_type": "execute_result"
    }
   ],
   "source": [
    "len(y_test)"
   ]
  },
  {
   "cell_type": "code",
   "execution_count": 13,
   "id": "a3acd468",
   "metadata": {
    "scrolled": true
   },
   "outputs": [
    {
     "data": {
      "text/plain": [
       "0"
      ]
     },
     "execution_count": 13,
     "metadata": {},
     "output_type": "execute_result"
    }
   ],
   "source": [
    "y_test.isna().sum()"
   ]
  },
  {
   "cell_type": "markdown",
   "id": "31b38417",
   "metadata": {},
   "source": [
    "<h1 style=\"border-bottom:2px solid black;padding:3px;color:#222\">\n",
    "Baseline model\n",
    "</h1>"
   ]
  },
  {
   "cell_type": "code",
   "execution_count": 14,
   "id": "a06268e6",
   "metadata": {
    "scrolled": true
   },
   "outputs": [
    {
     "name": "stdout",
     "output_type": "stream",
     "text": [
      "y_mean :  11.2\n",
      "mae for y_baseline :  3.31\n"
     ]
    }
   ],
   "source": [
    "y_mean=y_train.mean()\n",
    "y_pred_baseline=[y_mean]*len(y_train)\n",
    "print(\"y_mean : \",round(y_mean,2))\n",
    "print(\"mae for y_baseline : \",round(mean_absolute_error(y_train[:],y_pred_baseline),2))"
   ]
  },
  {
   "cell_type": "markdown",
   "id": "05efbb06",
   "metadata": {},
   "source": [
    "<p style=\"border-bottom:2px solid black;padding:5px;color:#fff;background-color:#222;border-radius:5px;height:100px;line-height:100px;font-size:30px;text-align:left\">\n",
    "1st model\n",
    "</p>"
   ]
  },
  {
   "cell_type": "markdown",
   "id": "260f7242",
   "metadata": {},
   "source": [
    "<h1 style=\"border-bottom:2px solid black;padding:3px;color:#222\">\n",
    "    Model training\n",
    "</h1>"
   ]
  },
  {
   "cell_type": "code",
   "execution_count": 15,
   "id": "eb337cbe",
   "metadata": {},
   "outputs": [],
   "source": [
    "model=AutoReg(y_train,lags=9).fit()"
   ]
  },
  {
   "cell_type": "code",
   "execution_count": 16,
   "id": "ab3b42f9",
   "metadata": {},
   "outputs": [],
   "source": [
    "y_pred_train=model.predict().dropna()"
   ]
  },
  {
   "cell_type": "code",
   "execution_count": 17,
   "id": "ba1a2a3b",
   "metadata": {
    "scrolled": true
   },
   "outputs": [
    {
     "name": "stdout",
     "output_type": "stream",
     "text": [
      "mae for training :  1.92\n"
     ]
    }
   ],
   "source": [
    "print(\"mae for training : \",round(mean_absolute_error(y_train[9:],y_pred_train),2))"
   ]
  },
  {
   "cell_type": "markdown",
   "id": "6b3022dd",
   "metadata": {},
   "source": [
    "<h1 style=\"border-bottom:2px solid black;padding:3px;color:#222\">\n",
    "    Residuals exploring\n",
    "</h1>"
   ]
  },
  {
   "cell_type": "code",
   "execution_count": 18,
   "id": "0cb0f752",
   "metadata": {},
   "outputs": [],
   "source": [
    "y_train_resid=model.resid"
   ]
  },
  {
   "cell_type": "code",
   "execution_count": 19,
   "id": "1afc7d9c",
   "metadata": {},
   "outputs": [
    {
     "data": {
      "image/png": "[encoded data removed]",
      "text/plain": [
       "<Figure size 800x500 with 1 Axes>"
      ]
     },
     "metadata": {},
     "output_type": "display_data"
    }
   ],
   "source": [
    "fig,ax=plt.subplots(figsize=(8,5))\n",
    "y_train_resid.plot(ax=ax,ylabel=\"Residual Value\");"
   ]
  },
  {
   "cell_type": "code",
   "execution_count": 20,
   "id": "b4534a2c",
   "metadata": {},
   "outputs": [
    {
     "data": {
      "image/png": "[encoded data removed]",
      "text/plain": [
       "<Figure size 640x480 with 1 Axes>"
      ]
     },
     "metadata": {},
     "output_type": "display_data"
    }
   ],
   "source": [
    "y_train_resid.hist()\n",
    "plt.xlabel(\"Residual Value\")\n",
    "plt.ylabel(\"Frequency\")\n",
    "plt.title(\"AR(9), Distribution of Residuals\");"
   ]
  },
  {
   "cell_type": "markdown",
   "id": "1c78570c",
   "metadata": {},
   "source": [
    "From the histogram above 👆, we see that : Residuals have bell curve distribution"
   ]
  },
  {
   "cell_type": "code",
   "execution_count": 21,
   "id": "1747042f",
   "metadata": {},
   "outputs": [
    {
     "data": {
      "image/png": "[encoded data removed]",
      "text/plain": [
       "<Figure size 800x500 with 1 Axes>"
      ]
     },
     "metadata": {},
     "output_type": "display_data"
    }
   ],
   "source": [
    "fig,ax=plt.subplots(figsize=(8,5))\n",
    "plot_acf(y_train_resid,ax=ax)\n",
    "plt.show()"
   ]
  },
  {
   "cell_type": "markdown",
   "id": "4b7c56c9",
   "metadata": {},
   "source": [
    "<h1 style=\"border-bottom:2px solid black;padding:3px;color:#222\">\n",
    "    Model evaluation\n",
    "</h1>"
   ]
  },
  {
   "cell_type": "code",
   "execution_count": 22,
   "id": "24e702b0",
   "metadata": {
    "scrolled": true
   },
   "outputs": [
    {
     "name": "stdout",
     "output_type": "stream",
     "text": [
      "mae for testing :  2.44\n"
     ]
    }
   ],
   "source": [
    "y_pred_test=model.predict(y_test.index.min(),y_test.index.max())\n",
    "print(\"mae for testing : \",round(mean_absolute_error(y_test,y_pred_test),2))"
   ]
  },
  {
   "cell_type": "markdown",
   "id": "49c10155",
   "metadata": {},
   "source": [
    "<h1 style=\"border-bottom:2px solid black;padding:3px;color:#222\">\n",
    "    Model evaluation using Walk Forward Validation (WFV)\n",
    "</h1>"
   ]
  },
  {
   "cell_type": "code",
   "execution_count": 27,
   "id": "e9cb0d90",
   "metadata": {},
   "outputs": [],
   "source": [
    "# clone training data\n",
    "history=y_train.copy()\n",
    "# make empty series\n",
    "y_pred_wfv=pd.Series()\n",
    "for i in range(len(y_test)):\n",
    "    # fit the model with the next prediction\n",
    "    model=AutoReg(history,lags=9).fit()\n",
    "    # forecast one prediction of test set (one by one) \n",
    "    next_pred=model.forecast()\n",
    "    # append the prediction to y_pred_wfv\n",
    "    y_pred_wfv=y_pred_wfv.append(next_pred)\n",
    "    # append the next observation from y_test to history\n",
    "    history=history.append(y_test[next_pred.index])\n",
    "    "
   ]
  },
  {
   "cell_type": "code",
   "execution_count": 28,
   "id": "d5b60928",
   "metadata": {},
   "outputs": [
    {
     "data": {
      "text/plain": [
       "1990-07-02     7.337540\n",
       "1990-07-03     7.367328\n",
       "1990-07-04     7.596623\n",
       "1990-07-05     7.504348\n",
       "1990-07-06     8.643557\n",
       "                ...    \n",
       "1990-12-27    14.149504\n",
       "1990-12-28    13.419219\n",
       "1990-12-29    13.264935\n",
       "1990-12-30    13.143314\n",
       "1990-12-31    14.490620\n",
       "Freq: D, Length: 183, dtype: float64"
      ]
     },
     "execution_count": 28,
     "metadata": {},
     "output_type": "execute_result"
    }
   ],
   "source": [
    "y_pred_wfv"
   ]
  },
  {
   "cell_type": "code",
   "execution_count": 29,
   "id": "81fabbb8",
   "metadata": {},
   "outputs": [
    {
     "name": "stdout",
     "output_type": "stream",
     "text": [
      "mae for testing using wfv :  1.82\n"
     ]
    }
   ],
   "source": [
    "print(\"mae for testing using wfv : \",round(mean_absolute_error(y_test,y_pred_wfv),2))"
   ]
  },
  {
   "cell_type": "markdown",
   "id": "b5b899f5",
   "metadata": {},
   "source": [
    "We see that using wfv is much more efficient"
   ]
  },
  {
   "cell_type": "markdown",
   "id": "895b43e0",
   "metadata": {},
   "source": [
    "<h1 style=\"border-bottom:2px solid black;padding:3px;color:#222\">\n",
    "    Communication of Results\n",
    "</h1>"
   ]
  },
  {
   "cell_type": "code",
   "execution_count": 41,
   "id": "ee5fb73b",
   "metadata": {},
   "outputs": [
    {
     "name": "stdout",
     "output_type": "stream",
     "text": [
      "Y =  0.99 + ( 0.6 *x2 ) + ( -0.08 *x3 ) + ( 0.07 *x4 ) + ( 0.05 *x5 ) + ( 0.06 *x6 ) + ( 0.05 *x7 ) + ( 0.05 *x8 ) + ( 0.03 *x9 ) + ( 0.07 *x10 )"
     ]
    }
   ],
   "source": [
    "print(\"Y = \",round(model.params[0],2),end=\"\")\n",
    "for i in range(1,len(model.params)):\n",
    "    print(\" + (\",round(model.params[i],2),f\"*x{i+1} )\",end=\"\")"
   ]
  },
  {
   "cell_type": "code",
   "execution_count": 43,
   "id": "2d593e14",
   "metadata": {},
   "outputs": [
    {
     "data": {
      "application/vnd.plotly.v1+json": {
       "config": {
        "plotlyServerURL": "https://plot.ly"
       },
       "data": [
        {
         "hovertemplate": "variable=y_test<br>Date=%{x}<br>minTemp=%{y}<extra></extra>",
         "legendgroup": "y_test",
         "line": {
          "color": "#636efa",
          "dash": "solid"
         },
         "marker": {
          "symbol": "circle"
         },
         "mode": "lines",
         "name": "y_test",
         "orientation": "v",
         "showlegend": true,
         "type": "scatter",
         "x": [
          "1990-07-02T00:00:00",
          "1990-07-03T00:00:00",
          "1990-07-04T00:00:00",
          "1990-07-05T00:00:00",
          "1990-07-06T00:00:00",
          "1990-07-07T00:00:00",
          "1990-07-08T00:00:00",
          "1990-07-09T00:00:00",
          "1990-07-10T00:00:00",
          "1990-07-11T00:00:00",
          "1990-07-12T00:00:00",
          "1990-07-13T00:00:00",
          "1990-07-14T00:00:00",
          "1990-07-15T00:00:00",
          "1990-07-16T00:00:00",
          "1990-07-17T00:00:00",
          "1990-07-18T00:00:00",
          "1990-07-19T00:00:00",
          "1990-07-20T00:00:00",
          "1990-07-21T00:00:00",
          "1990-07-22T00:00:00",
          "1990-07-23T00:00:00",
          "1990-07-24T00:00:00",
          "1990-07-25T00:00:00",
          "1990-07-26T00:00:00",
          "1990-07-27T00:00:00",
          "1990-07-28T00:00:00",
          "1990-07-29T00:00:00",
          "1990-07-30T00:00:00",
          "1990-07-31T00:00:00",
          "1990-08-01T00:00:00",
          "1990-08-02T00:00:00",
          "1990-08-03T00:00:00",
          "1990-08-04T00:00:00",
          "1990-08-05T00:00:00",
          "1990-08-06T00:00:00",
          "1990-08-07T00:00:00",
          "1990-08-08T00:00:00",
          "1990-08-09T00:00:00",
          "1990-08-10T00:00:00",
          "1990-08-11T00:00:00",
          "1990-08-12T00:00:00",
          "1990-08-13T00:00:00",
          "1990-08-14T00:00:00",
          "1990-08-15T00:00:00",
          "1990-08-16T00:00:00",
          "1990-08-17T00:00:00",
          "1990-08-18T00:00:00",
          "1990-08-19T00:00:00",
          "1990-08-20T00:00:00",
          "1990-08-21T00:00:00",
          "1990-08-22T00:00:00",
          "1990-08-23T00:00:00",
          "1990-08-24T00:00:00",
          "1990-08-25T00:00:00",
          "1990-08-26T00:00:00",
          "1990-08-27T00:00:00",
          "1990-08-28T00:00:00",
          "1990-08-29T00:00:00",
          "1990-08-30T00:00:00",
          "1990-08-31T00:00:00",
          "1990-09-01T00:00:00",
          "1990-09-02T00:00:00",
          "1990-09-03T00:00:00",
          "1990-09-04T00:00:00",
          "1990-09-05T00:00:00",
          "1990-09-06T00:00:00",
          "1990-09-07T00:00:00",
          "1990-09-08T00:00:00",
          "1990-09-09T00:00:00",
          "1990-09-10T00:00:00",
          "1990-09-11T00:00:00",
          "1990-09-12T00:00:00",
          "1990-09-13T00:00:00",
          "1990-09-14T00:00:00",
          "1990-09-15T00:00:00",
          "1990-09-16T00:00:00",
          "1990-09-17T00:00:00",
          "1990-09-18T00:00:00",
          "1990-09-19T00:00:00",
          "1990-09-20T00:00:00",
          "1990-09-21T00:00:00",
          "1990-09-22T00:00:00",
          "1990-09-23T00:00:00",
          "1990-09-24T00:00:00",
          "1990-09-25T00:00:00",
          "1990-09-26T00:00:00",
          "1990-09-27T00:00:00",
          "1990-09-28T00:00:00",
          "1990-09-29T00:00:00",
          "1990-09-30T00:00:00",
          "1990-10-01T00:00:00",
          "1990-10-02T00:00:00",
          "1990-10-03T00:00:00",
          "1990-10-04T00:00:00",
          "1990-10-05T00:00:00",
          "1990-10-06T00:00:00",
          "1990-10-07T00:00:00",
          "1990-10-08T00:00:00",
          "1990-10-09T00:00:00",
          "1990-10-10T00:00:00",
          "1990-10-11T00:00:00",
          "1990-10-12T00:00:00",
          "1990-10-13T00:00:00",
          "1990-10-14T00:00:00",
          "1990-10-15T00:00:00",
          "1990-10-16T00:00:00",
          "1990-10-17T00:00:00",
          "1990-10-18T00:00:00",
          "1990-10-19T00:00:00",
          "1990-10-20T00:00:00",
          "1990-10-21T00:00:00",
          "1990-10-22T00:00:00",
          "1990-10-23T00:00:00",
          "1990-10-24T00:00:00",
          "1990-10-25T00:00:00",
          "1990-10-26T00:00:00",
          "1990-10-27T00:00:00",
          "1990-10-28T00:00:00",
          "1990-10-29T00:00:00",
          "1990-10-30T00:00:00",
          "1990-10-31T00:00:00",
          "1990-11-01T00:00:00",
          "1990-11-02T00:00:00",
          "1990-11-03T00:00:00",
          "1990-11-04T00:00:00",
          "1990-11-05T00:00:00",
          "1990-11-06T00:00:00",
          "1990-11-07T00:00:00",
          "1990-11-08T00:00:00",
          "1990-11-09T00:00:00",
          "1990-11-10T00:00:00",
          "1990-11-11T00:00:00",
          "1990-11-12T00:00:00",
          "1990-11-13T00:00:00",
          "1990-11-14T00:00:00",
          "1990-11-15T00:00:00",
          "1990-11-16T00:00:00",
          "1990-11-17T00:00:00",
          "1990-11-18T00:00:00",
          "1990-11-19T00:00:00",
          "1990-11-20T00:00:00",
          "1990-11-21T00:00:00",
          "1990-11-22T00:00:00",
          "1990-11-23T00:00:00",
          "1990-11-24T00:00:00",
          "1990-11-25T00:00:00",
          "1990-11-26T00:00:00",
          "1990-11-27T00:00:00",
          "1990-11-28T00:00:00",
          "1990-11-29T00:00:00",
          "1990-11-30T00:00:00",
          "1990-12-01T00:00:00",
          "1990-12-02T00:00:00",
          "1990-12-03T00:00:00",
          "1990-12-04T00:00:00",
          "1990-12-05T00:00:00",
          "1990-12-06T00:00:00",
          "1990-12-07T00:00:00",
          "1990-12-08T00:00:00",
          "1990-12-09T00:00:00",
          "1990-12-10T00:00:00",
          "1990-12-11T00:00:00",
          "1990-12-12T00:00:00",
          "1990-12-13T00:00:00",
          "1990-12-14T00:00:00",
          "1990-12-15T00:00:00",
          "1990-12-16T00:00:00",
          "1990-12-17T00:00:00",
          "1990-12-18T00:00:00",
          "1990-12-19T00:00:00",
          "1990-12-20T00:00:00",
          "1990-12-21T00:00:00",
          "1990-12-22T00:00:00",
          "1990-12-23T00:00:00",
          "1990-12-24T00:00:00",
          "1990-12-25T00:00:00",
          "1990-12-26T00:00:00",
          "1990-12-27T00:00:00",
          "1990-12-28T00:00:00",
          "1990-12-29T00:00:00",
          "1990-12-30T00:00:00",
          "1990-12-31T00:00:00"
         ],
         "xaxis": "x",
         "y": [
          7.3,
          7.7,
          7.7,
          9.3,
          4.4,
          5.7,
          10.2,
          10.2,
          9.3,
          5.4,
          5,
          7.6,
          9.6,
          10.4,
          11.2,
          9.1,
          11.2,
          6.8,
          8.3,
          9.7,
          9.6,
          9.8,
          10.8,
          9.2,
          6.5,
          8.1,
          7.3,
          7.9,
          6,
          5,
          6.8,
          9.8,
          5.7,
          8.6,
          10.6,
          7.8,
          7.7,
          8.6,
          6.5,
          6.9,
          6.4,
          8.5,
          7.8,
          9.3,
          8.4,
          7.8,
          7.4,
          7.7,
          8.9,
          9.7,
          9.9,
          6.1,
          6.6,
          7.6,
          7.4,
          8,
          2.1,
          5.9,
          11.6,
          8.6,
          7.9,
          6,
          9.5,
          8.6,
          7.6,
          10.4,
          10.3,
          7.5,
          3,
          5.3,
          10.5,
          14.6,
          12.6,
          9.8,
          7.2,
          10.1,
          10.4,
          3.7,
          7.3,
          11.6,
          16.3,
          9.6,
          6.8,
          5.2,
          10.6,
          16.3,
          9.8,
          4.6,
          11.1,
          8.7,
          10,
          11.3,
          10.5,
          9.9,
          11,
          14,
          9.2,
          9.8,
          6,
          9.8,
          9.2,
          11.8,
          10.3,
          7.5,
          7.7,
          15.8,
          14.6,
          10.5,
          11.3,
          10.9,
          6.4,
          10.9,
          9,
          10.9,
          12.4,
          11.6,
          13.3,
          14.4,
          18.4,
          13.6,
          14.9,
          14.8,
          15.4,
          11.8,
          13,
          11.1,
          12.5,
          18.3,
          19.2,
          15.4,
          13.1,
          11.5,
          8.6,
          12.6,
          13.8,
          14.6,
          13.2,
          12.3,
          8.8,
          10.7,
          9.9,
          8.3,
          15,
          12.2,
          10.5,
          11.1,
          13,
          12.9,
          8.8,
          14.7,
          14.7,
          12.7,
          13.3,
          13.2,
          16.2,
          17.3,
          20.5,
          20.2,
          19.4,
          15.5,
          14.1,
          11,
          11.1,
          14,
          11.4,
          12.5,
          13.4,
          13.6,
          13.9,
          17.2,
          14.7,
          15.4,
          13.1,
          13.2,
          13.9,
          10,
          12.9,
          14.6,
          14,
          13.6,
          13.5,
          15.7,
          13
         ],
         "yaxis": "y"
        },
        {
         "hovertemplate": "variable=y_pred_wfv<br>Date=%{x}<br>minTemp=%{y}<extra></extra>",
         "legendgroup": "y_pred_wfv",
         "line": {
          "color": "#EF553B",
          "dash": "solid"
         },
         "marker": {
          "symbol": "circle"
         },
         "mode": "lines",
         "name": "y_pred_wfv",
         "orientation": "v",
         "showlegend": true,
         "type": "scatter",
         "x": [
          "1990-07-02T00:00:00",
          "1990-07-03T00:00:00",
          "1990-07-04T00:00:00",
          "1990-07-05T00:00:00",
          "1990-07-06T00:00:00",
          "1990-07-07T00:00:00",
          "1990-07-08T00:00:00",
          "1990-07-09T00:00:00",
          "1990-07-10T00:00:00",
          "1990-07-11T00:00:00",
          "1990-07-12T00:00:00",
          "1990-07-13T00:00:00",
          "1990-07-14T00:00:00",
          "1990-07-15T00:00:00",
          "1990-07-16T00:00:00",
          "1990-07-17T00:00:00",
          "1990-07-18T00:00:00",
          "1990-07-19T00:00:00",
          "1990-07-20T00:00:00",
          "1990-07-21T00:00:00",
          "1990-07-22T00:00:00",
          "1990-07-23T00:00:00",
          "1990-07-24T00:00:00",
          "1990-07-25T00:00:00",
          "1990-07-26T00:00:00",
          "1990-07-27T00:00:00",
          "1990-07-28T00:00:00",
          "1990-07-29T00:00:00",
          "1990-07-30T00:00:00",
          "1990-07-31T00:00:00",
          "1990-08-01T00:00:00",
          "1990-08-02T00:00:00",
          "1990-08-03T00:00:00",
          "1990-08-04T00:00:00",
          "1990-08-05T00:00:00",
          "1990-08-06T00:00:00",
          "1990-08-07T00:00:00",
          "1990-08-08T00:00:00",
          "1990-08-09T00:00:00",
          "1990-08-10T00:00:00",
          "1990-08-11T00:00:00",
          "1990-08-12T00:00:00",
          "1990-08-13T00:00:00",
          "1990-08-14T00:00:00",
          "1990-08-15T00:00:00",
          "1990-08-16T00:00:00",
          "1990-08-17T00:00:00",
          "1990-08-18T00:00:00",
          "1990-08-19T00:00:00",
          "1990-08-20T00:00:00",
          "1990-08-21T00:00:00",
          "1990-08-22T00:00:00",
          "1990-08-23T00:00:00",
          "1990-08-24T00:00:00",
          "1990-08-25T00:00:00",
          "1990-08-26T00:00:00",
          "1990-08-27T00:00:00",
          "1990-08-28T00:00:00",
          "1990-08-29T00:00:00",
          "1990-08-30T00:00:00",
          "1990-08-31T00:00:00",
          "1990-09-01T00:00:00",
          "1990-09-02T00:00:00",
          "1990-09-03T00:00:00",
          "1990-09-04T00:00:00",
          "1990-09-05T00:00:00",
          "1990-09-06T00:00:00",
          "1990-09-07T00:00:00",
          "1990-09-08T00:00:00",
          "1990-09-09T00:00:00",
          "1990-09-10T00:00:00",
          "1990-09-11T00:00:00",
          "1990-09-12T00:00:00",
          "1990-09-13T00:00:00",
          "1990-09-14T00:00:00",
          "1990-09-15T00:00:00",
          "1990-09-16T00:00:00",
          "1990-09-17T00:00:00",
          "1990-09-18T00:00:00",
          "1990-09-19T00:00:00",
          "1990-09-20T00:00:00",
          "1990-09-21T00:00:00",
          "1990-09-22T00:00:00",
          "1990-09-23T00:00:00",
          "1990-09-24T00:00:00",
          "1990-09-25T00:00:00",
          "1990-09-26T00:00:00",
          "1990-09-27T00:00:00",
          "1990-09-28T00:00:00",
          "1990-09-29T00:00:00",
          "1990-09-30T00:00:00",
          "1990-10-01T00:00:00",
          "1990-10-02T00:00:00",
          "1990-10-03T00:00:00",
          "1990-10-04T00:00:00",
          "1990-10-05T00:00:00",
          "1990-10-06T00:00:00",
          "1990-10-07T00:00:00",
          "1990-10-08T00:00:00",
          "1990-10-09T00:00:00",
          "1990-10-10T00:00:00",
          "1990-10-11T00:00:00",
          "1990-10-12T00:00:00",
          "1990-10-13T00:00:00",
          "1990-10-14T00:00:00",
          "1990-10-15T00:00:00",
          "1990-10-16T00:00:00",
          "1990-10-17T00:00:00",
          "1990-10-18T00:00:00",
          "1990-10-19T00:00:00",
          "1990-10-20T00:00:00",
          "1990-10-21T00:00:00",
          "1990-10-22T00:00:00",
          "1990-10-23T00:00:00",
          "1990-10-24T00:00:00",
          "1990-10-25T00:00:00",
          "1990-10-26T00:00:00",
          "1990-10-27T00:00:00",
          "1990-10-28T00:00:00",
          "1990-10-29T00:00:00",
          "1990-10-30T00:00:00",
          "1990-10-31T00:00:00",
          "1990-11-01T00:00:00",
          "1990-11-02T00:00:00",
          "1990-11-03T00:00:00",
          "1990-11-04T00:00:00",
          "1990-11-05T00:00:00",
          "1990-11-06T00:00:00",
          "1990-11-07T00:00:00",
          "1990-11-08T00:00:00",
          "1990-11-09T00:00:00",
          "1990-11-10T00:00:00",
          "1990-11-11T00:00:00",
          "1990-11-12T00:00:00",
          "1990-11-13T00:00:00",
          "1990-11-14T00:00:00",
          "1990-11-15T00:00:00",
          "1990-11-16T00:00:00",
          "1990-11-17T00:00:00",
          "1990-11-18T00:00:00",
          "1990-11-19T00:00:00",
          "1990-11-20T00:00:00",
          "1990-11-21T00:00:00",
          "1990-11-22T00:00:00",
          "1990-11-23T00:00:00",
          "1990-11-24T00:00:00",
          "1990-11-25T00:00:00",
          "1990-11-26T00:00:00",
          "1990-11-27T00:00:00",
          "1990-11-28T00:00:00",
          "1990-11-29T00:00:00",
          "1990-11-30T00:00:00",
          "1990-12-01T00:00:00",
          "1990-12-02T00:00:00",
          "1990-12-03T00:00:00",
          "1990-12-04T00:00:00",
          "1990-12-05T00:00:00",
          "1990-12-06T00:00:00",
          "1990-12-07T00:00:00",
          "1990-12-08T00:00:00",
          "1990-12-09T00:00:00",
          "1990-12-10T00:00:00",
          "1990-12-11T00:00:00",
          "1990-12-12T00:00:00",
          "1990-12-13T00:00:00",
          "1990-12-14T00:00:00",
          "1990-12-15T00:00:00",
          "1990-12-16T00:00:00",
          "1990-12-17T00:00:00",
          "1990-12-18T00:00:00",
          "1990-12-19T00:00:00",
          "1990-12-20T00:00:00",
          "1990-12-21T00:00:00",
          "1990-12-22T00:00:00",
          "1990-12-23T00:00:00",
          "1990-12-24T00:00:00",
          "1990-12-25T00:00:00",
          "1990-12-26T00:00:00",
          "1990-12-27T00:00:00",
          "1990-12-28T00:00:00",
          "1990-12-29T00:00:00",
          "1990-12-30T00:00:00",
          "1990-12-31T00:00:00"
         ],
         "xaxis": "x",
         "y": [
          7.337540114644996,
          7.367328115921188,
          7.596623294607694,
          7.504347919010644,
          8.64355743188742,
          5.596962615083451,
          7.025607738847491,
          9.590105472951247,
          9.081223683358091,
          8.705222604784751,
          6.587092047604922,
          6.7021664283429505,
          8.219294568961915,
          8.918567885370106,
          9.372488457487767,
          10.096741477767717,
          8.815009420717036,
          10.371733634505958,
          7.463420243761881,
          9.001233777887846,
          9.737900590750813,
          9.685453259025225,
          9.78607392042548,
          10.402282112923583,
          9.228650948319071,
          7.921905888702179,
          8.87636267393157,
          8.223715132844692,
          8.674969784337048,
          7.316867254209451,
          6.779251380125762,
          7.736113323380494,
          9.135014300615007,
          6.2539091276925864,
          8.559848411233462,
          9.345772691248632,
          7.691213623073674,
          7.958943933487857,
          8.543322950181604,
          7.337534449552276,
          7.932636580711126,
          7.289710368877709,
          8.684239214340394,
          8.033674238122064,
          8.889317764122273,
          8.192751236953228,
          8.072774915874518,
          7.800629134596353,
          8.101090614555828,
          8.773060280057908,
          9.27967353170273,
          9.34323400247654,
          7.180863225514139,
          7.804499469851169,
          8.190138294315323,
          7.942758716752046,
          8.300236820531508,
          4.684556896700463,
          7.39180160198411,
          10.11424728119561,
          7.6918841165504315,
          7.807616928220129,
          6.813517338131026,
          9.105756260794632,
          8.256519009374882,
          7.732180510093757,
          9.753737615719434,
          9.722596579564552,
          7.975380530811394,
          5.573758437297928,
          7.179715658753185,
          9.962054320279485,
          11.860046809338506,
          10.426153895276885,
          9.379306162540404,
          8.167466868364514,
          10.121805211509795,
          9.908224804631578,
          6.188116111863967,
          9.146730798744969,
          11.116486695372837,
          13.312099388940146,
          8.839348495765611,
          8.08355899663506,
          7.396973573372696,
          10.702871318084291,
          13.190797661443412,
          9.240481297391195,
          7.167377087641558,
          11.592043117504367,
          8.866249856081067,
          9.897653418459267,
          10.506927257821893,
          10.307326693409827,
          10.192837726533341,
          10.57761574297446,
          12.124306476301635,
          9.471497511532371,
          10.35898595029635,
          7.987432836833133,
          10.643436351604603,
          9.568643853152972,
          11.197882149720453,
          9.977286167295684,
          8.679197863462898,
          8.689375456843106,
          13.515355188743126,
          11.880762264387043,
          10.190262762583403,
          11.218418291358073,
          11.073929698280221,
          8.352675575406248,
          11.35637928031812,
          9.610712600532532,
          11.303465172768576,
          11.669911952508798,
          10.871645325280113,
          12.081610843382915,
          12.687673302875487,
          15.025145348765248,
          12.353603937510865,
          13.924218018740728,
          13.952382647065118,
          14.61978689523242,
          12.43102616326772,
          13.676532100955173,
          12.26675519818979,
          13.348936816565354,
          16.174431729610014,
          16.264278232987877,
          14.146894075202534,
          13.40678614459073,
          12.534234229455908,
          10.99159225458329,
          13.425098686798126,
          13.56357146406826,
          14.10304848753459,
          13.043864782429672,
          12.390588900452011,
          10.21633287164744,
          11.602642576520507,
          10.641472613117113,
          9.9187235667651,
          13.910509934810866,
          11.440609754099512,
          10.743467875327488,
          11.172111523827416,
          12.109008526411218,
          12.052161805388993,
          9.734728485939554,
          13.620798066400834,
          13.313686241801404,
          12.157043118557938,
          12.73238443208653,
          12.74487140897622,
          14.702644099046562,
          15.193699598558267,
          17.077499213671437,
          17.22149314388571,
          17.187986409113467,
          15.138954238616318,
          14.984440254961815,
          13.211064747876371,
          13.571358749061787,
          14.926841922233011,
          12.861190845218317,
          13.41587883877171,
          13.438600877792068,
          13.119217545871035,
          13.19078150801579,
          15.091434182821454,
          13.428720908439281,
          14.524582492490946,
          13.01200761891292,
          13.5030857413991,
          13.901138273039539,
          11.495651534258403,
          13.495799820613998,
          14.149503798241243,
          13.419218886673345,
          13.264935008594465,
          13.143313559780063,
          14.490619552327647
         ],
         "yaxis": "y"
        }
       ],
       "layout": {
        "legend": {
         "title": {
          "text": "variable"
         },
         "tracegroupgap": 0
        },
        "margin": {
         "t": 60
        },
        "template": {
         "data": {
          "bar": [
           {
            "error_x": {
             "color": "#2a3f5f"
            },
            "error_y": {
             "color": "#2a3f5f"
            },
            "marker": {
             "line": {
              "color": "#E5ECF6",
              "width": 0.5
             },
             "pattern": {
              "fillmode": "overlay",
              "size": 10,
              "solidity": 0.2
             }
            },
            "type": "bar"
           }
          ],
          "barpolar": [
           {
            "marker": {
             "line": {
              "color": "#E5ECF6",
              "width": 0.5
             },
             "pattern": {
              "fillmode": "overlay",
              "size": 10,
              "solidity": 0.2
             }
            },
            "type": "barpolar"
           }
          ],
          "carpet": [
           {
            "aaxis": {
             "endlinecolor": "#2a3f5f",
             "gridcolor": "white",
             "linecolor": "white",
             "minorgridcolor": "white",
             "startlinecolor": "#2a3f5f"
            },
            "baxis": {
             "endlinecolor": "#2a3f5f",
             "gridcolor": "white",
             "linecolor": "white",
             "minorgridcolor": "white",
             "startlinecolor": "#2a3f5f"
            },
            "type": "carpet"
           }
          ],
          "choropleth": [
           {
            "colorbar": {
             "outlinewidth": 0,
             "ticks": ""
            },
            "type": "choropleth"
           }
          ],
          "contour": [
           {
            "colorbar": {
             "outlinewidth": 0,
             "ticks": ""
            },
            "colorscale": [
             [
              0,
              "#0d0887"
             ],
             [
              0.1111111111111111,
              "#46039f"
             ],
             [
              0.2222222222222222,
              "#7201a8"
             ],
             [
              0.3333333333333333,
              "#9c179e"
             ],
             [
              0.4444444444444444,
              "#bd3786"
             ],
             [
              0.5555555555555556,
              "#d8576b"
             ],
             [
              0.6666666666666666,
              "#ed7953"
             ],
             [
              0.7777777777777778,
              "#fb9f3a"
             ],
             [
              0.8888888888888888,
              "#fdca26"
             ],
             [
              1,
              "#f0f921"
             ]
            ],
            "type": "contour"
           }
          ],
          "contourcarpet": [
           {
            "colorbar": {
             "outlinewidth": 0,
             "ticks": ""
            },
            "type": "contourcarpet"
           }
          ],
          "heatmap": [
           {
            "colorbar": {
             "outlinewidth": 0,
             "ticks": ""
            },
            "colorscale": [
             [
              0,
              "#0d0887"
             ],
             [
              0.1111111111111111,
              "#46039f"
             ],
             [
              0.2222222222222222,
              "#7201a8"
             ],
             [
              0.3333333333333333,
              "#9c179e"
             ],
             [
              0.4444444444444444,
              "#bd3786"
             ],
             [
              0.5555555555555556,
              "#d8576b"
             ],
             [
              0.6666666666666666,
              "#ed7953"
             ],
             [
              0.7777777777777778,
              "#fb9f3a"
             ],
             [
              0.8888888888888888,
              "#fdca26"
             ],
             [
              1,
              "#f0f921"
             ]
            ],
            "type": "heatmap"
           }
          ],
          "heatmapgl": [
           {
            "colorbar": {
             "outlinewidth": 0,
             "ticks": ""
            },
            "colorscale": [
             [
              0,
              "#0d0887"
             ],
             [
              0.1111111111111111,
              "#46039f"
             ],
             [
              0.2222222222222222,
              "#7201a8"
             ],
             [
              0.3333333333333333,
              "#9c179e"
             ],
             [
              0.4444444444444444,
              "#bd3786"
             ],
             [
              0.5555555555555556,
              "#d8576b"
             ],
             [
              0.6666666666666666,
              "#ed7953"
             ],
             [
              0.7777777777777778,
              "#fb9f3a"
             ],
             [
              0.8888888888888888,
              "#fdca26"
             ],
             [
              1,
              "#f0f921"
             ]
            ],
            "type": "heatmapgl"
           }
          ],
          "histogram": [
           {
            "marker": {
             "pattern": {
              "fillmode": "overlay",
              "size": 10,
              "solidity": 0.2
             }
            },
            "type": "histogram"
           }
          ],
          "histogram2d": [
           {
            "colorbar": {
             "outlinewidth": 0,
             "ticks": ""
            },
            "colorscale": [
             [
              0,
              "#0d0887"
             ],
             [
              0.1111111111111111,
              "#46039f"
             ],
             [
              0.2222222222222222,
              "#7201a8"
             ],
             [
              0.3333333333333333,
              "#9c179e"
             ],
             [
              0.4444444444444444,
              "#bd3786"
             ],
             [
              0.5555555555555556,
              "#d8576b"
             ],
             [
              0.6666666666666666,
              "#ed7953"
             ],
             [
              0.7777777777777778,
              "#fb9f3a"
             ],
             [
              0.8888888888888888,
              "#fdca26"
             ],
             [
              1,
              "#f0f921"
             ]
            ],
            "type": "histogram2d"
           }
          ],
          "histogram2dcontour": [
           {
            "colorbar": {
             "outlinewidth": 0,
             "ticks": ""
            },
            "colorscale": [
             [
              0,
              "#0d0887"
             ],
             [
              0.1111111111111111,
              "#46039f"
             ],
             [
              0.2222222222222222,
              "#7201a8"
             ],
             [
              0.3333333333333333,
              "#9c179e"
             ],
             [
              0.4444444444444444,
              "#bd3786"
             ],
             [
              0.5555555555555556,
              "#d8576b"
             ],
             [
              0.6666666666666666,
              "#ed7953"
             ],
             [
              0.7777777777777778,
              "#fb9f3a"
             ],
             [
              0.8888888888888888,
              "#fdca26"
             ],
             [
              1,
              "#f0f921"
             ]
            ],
            "type": "histogram2dcontour"
           }
          ],
          "mesh3d": [
           {
            "colorbar": {
             "outlinewidth": 0,
             "ticks": ""
            },
            "type": "mesh3d"
           }
          ],
          "parcoords": [
           {
            "line": {
             "colorbar": {
              "outlinewidth": 0,
              "ticks": ""
             }
            },
            "type": "parcoords"
           }
          ],
          "pie": [
           {
            "automargin": true,
            "type": "pie"
           }
          ],
          "scatter": [
           {
            "fillpattern": {
             "fillmode": "overlay",
             "size": 10,
             "solidity": 0.2
            },
            "type": "scatter"
           }
          ],
          "scatter3d": [
           {
            "line": {
             "colorbar": {
              "outlinewidth": 0,
              "ticks": ""
             }
            },
            "marker": {
             "colorbar": {
              "outlinewidth": 0,
              "ticks": ""
             }
            },
            "type": "scatter3d"
           }
          ],
          "scattercarpet": [
           {
            "marker": {
             "colorbar": {
              "outlinewidth": 0,
              "ticks": ""
             }
            },
            "type": "scattercarpet"
           }
          ],
          "scattergeo": [
           {
            "marker": {
             "colorbar": {
              "outlinewidth": 0,
              "ticks": ""
             }
            },
            "type": "scattergeo"
           }
          ],
          "scattergl": [
           {
            "marker": {
             "colorbar": {
              "outlinewidth": 0,
              "ticks": ""
             }
            },
            "type": "scattergl"
           }
          ],
          "scattermapbox": [
           {
            "marker": {
             "colorbar": {
              "outlinewidth": 0,
              "ticks": ""
             }
            },
            "type": "scattermapbox"
           }
          ],
          "scatterpolar": [
           {
            "marker": {
             "colorbar": {
              "outlinewidth": 0,
              "ticks": ""
             }
            },
            "type": "scatterpolar"
           }
          ],
          "scatterpolargl": [
           {
            "marker": {
             "colorbar": {
              "outlinewidth": 0,
              "ticks": ""
             }
            },
            "type": "scatterpolargl"
           }
          ],
          "scatterternary": [
           {
            "marker": {
             "colorbar": {
              "outlinewidth": 0,
              "ticks": ""
             }
            },
            "type": "scatterternary"
           }
          ],
          "surface": [
           {
            "colorbar": {
             "outlinewidth": 0,
             "ticks": ""
            },
            "colorscale": [
             [
              0,
              "#0d0887"
             ],
             [
              0.1111111111111111,
              "#46039f"
             ],
             [
              0.2222222222222222,
              "#7201a8"
             ],
             [
              0.3333333333333333,
              "#9c179e"
             ],
             [
              0.4444444444444444,
              "#bd3786"
             ],
             [
              0.5555555555555556,
              "#d8576b"
             ],
             [
              0.6666666666666666,
              "#ed7953"
             ],
             [
              0.7777777777777778,
              "#fb9f3a"
             ],
             [
              0.8888888888888888,
              "#fdca26"
             ],
             [
              1,
              "#f0f921"
             ]
            ],
            "type": "surface"
           }
          ],
          "table": [
           {
            "cells": {
             "fill": {
              "color": "#EBF0F8"
             },
             "line": {
              "color": "white"
             }
            },
            "header": {
             "fill": {
              "color": "#C8D4E3"
             },
             "line": {
              "color": "white"
             }
            },
            "type": "table"
           }
          ]
         },
         "layout": {
          "annotationdefaults": {
           "arrowcolor": "#2a3f5f",
           "arrowhead": 0,
           "arrowwidth": 1
          },
          "autotypenumbers": "strict",
          "coloraxis": {
           "colorbar": {
            "outlinewidth": 0,
            "ticks": ""
           }
          },
          "colorscale": {
           "diverging": [
            [
             0,
             "#8e0152"
            ],
            [
             0.1,
             "#c51b7d"
            ],
            [
             0.2,
             "#de77ae"
            ],
            [
             0.3,
             "#f1b6da"
            ],
            [
             0.4,
             "#fde0ef"
            ],
            [
             0.5,
             "#f7f7f7"
            ],
            [
             0.6,
             "#e6f5d0"
            ],
            [
             0.7,
             "#b8e186"
            ],
            [
             0.8,
             "#7fbc41"
            ],
            [
             0.9,
             "#4d9221"
            ],
            [
             1,
             "#276419"
            ]
           ],
           "sequential": [
            [
             0,
             "#0d0887"
            ],
            [
             0.1111111111111111,
             "#46039f"
            ],
            [
             0.2222222222222222,
             "#7201a8"
            ],
            [
             0.3333333333333333,
             "#9c179e"
            ],
            [
             0.4444444444444444,
             "#bd3786"
            ],
            [
             0.5555555555555556,
             "#d8576b"
            ],
            [
             0.6666666666666666,
             "#ed7953"
            ],
            [
             0.7777777777777778,
             "#fb9f3a"
            ],
            [
             0.8888888888888888,
             "#fdca26"
            ],
            [
             1,
             "#f0f921"
            ]
           ],
           "sequentialminus": [
            [
             0,
             "#0d0887"
            ],
            [
             0.1111111111111111,
             "#46039f"
            ],
            [
             0.2222222222222222,
             "#7201a8"
            ],
            [
             0.3333333333333333,
             "#9c179e"
            ],
            [
             0.4444444444444444,
             "#bd3786"
            ],
            [
             0.5555555555555556,
             "#d8576b"
            ],
            [
             0.6666666666666666,
             "#ed7953"
            ],
            [
             0.7777777777777778,
             "#fb9f3a"
            ],
            [
             0.8888888888888888,
             "#fdca26"
            ],
            [
             1,
             "#f0f921"
            ]
           ]
          },
          "colorway": [
           "#636efa",
           "#EF553B",
           "#00cc96",
           "#ab63fa",
           "#FFA15A",
           "#19d3f3",
           "#FF6692",
           "#B6E880",
           "#FF97FF",
           "#FECB52"
          ],
          "font": {
           "color": "#2a3f5f"
          },
          "geo": {
           "bgcolor": "white",
           "lakecolor": "white",
           "landcolor": "#E5ECF6",
           "showlakes": true,
           "showland": true,
           "subunitcolor": "white"
          },
          "hoverlabel": {
           "align": "left"
          },
          "hovermode": "closest",
          "mapbox": {
           "style": "light"
          },
          "paper_bgcolor": "white",
          "plot_bgcolor": "#E5ECF6",
          "polar": {
           "angularaxis": {
            "gridcolor": "white",
            "linecolor": "white",
            "ticks": ""
           },
           "bgcolor": "#E5ECF6",
           "radialaxis": {
            "gridcolor": "white",
            "linecolor": "white",
            "ticks": ""
           }
          },
          "scene": {
           "xaxis": {
            "backgroundcolor": "#E5ECF6",
            "gridcolor": "white",
            "gridwidth": 2,
            "linecolor": "white",
            "showbackground": true,
            "ticks": "",
            "zerolinecolor": "white"
           },
           "yaxis": {
            "backgroundcolor": "#E5ECF6",
            "gridcolor": "white",
            "gridwidth": 2,
            "linecolor": "white",
            "showbackground": true,
            "ticks": "",
            "zerolinecolor": "white"
           },
           "zaxis": {
            "backgroundcolor": "#E5ECF6",
            "gridcolor": "white",
            "gridwidth": 2,
            "linecolor": "white",
            "showbackground": true,
            "ticks": "",
            "zerolinecolor": "white"
           }
          },
          "shapedefaults": {
           "line": {
            "color": "#2a3f5f"
           }
          },
          "ternary": {
           "aaxis": {
            "gridcolor": "white",
            "linecolor": "white",
            "ticks": ""
           },
           "baxis": {
            "gridcolor": "white",
            "linecolor": "white",
            "ticks": ""
           },
           "bgcolor": "#E5ECF6",
           "caxis": {
            "gridcolor": "white",
            "linecolor": "white",
            "ticks": ""
           }
          },
          "title": {
           "x": 0.05
          },
          "xaxis": {
           "automargin": true,
           "gridcolor": "white",
           "linecolor": "white",
           "ticks": "",
           "title": {
            "standoff": 15
           },
           "zerolinecolor": "white",
           "zerolinewidth": 2
          },
          "yaxis": {
           "automargin": true,
           "gridcolor": "white",
           "linecolor": "white",
           "ticks": "",
           "title": {
            "standoff": 15
           },
           "zerolinecolor": "white",
           "zerolinewidth": 2
          }
         }
        },
        "xaxis": {
         "anchor": "y",
         "domain": [
          0,
          1
         ],
         "title": {
          "text": "Date"
         }
        },
        "yaxis": {
         "anchor": "x",
         "domain": [
          0,
          1
         ],
         "title": {
          "text": "minTemp"
         }
        }
       }
      },
      "text/html": [
       "<div>                            <div id=\"dd107176-6ced-442f-8538-ffe0306ab9e8\" class=\"plotly-graph-div\" style=\"height:525px; width:100%;\"></div>            <script type=\"text/javascript\">                require([\"plotly\"], function(Plotly) {                    window.PLOTLYENV=window.PLOTLYENV || {};                                    if (document.getElementById(\"dd107176-6ced-442f-8538-ffe0306ab9e8\")) {                    Plotly.newPlot(                        \"dd107176-6ced-442f-8538-ffe0306ab9e8\",                        [{\"hovertemplate\":\"variable=y_test<br>Date=%{x}<br>minTemp=%{y}<extra></extra>\",\"legendgroup\":\"y_test\",\"line\":{\"color\":\"#636efa\",\"dash\":\"solid\"},\"marker\":{\"symbol\":\"circle\"},\"mode\":\"lines\",\"name\":\"y_test\",\"orientation\":\"v\",\"showlegend\":true,\"x\":[\"1990-07-02T00:00:00\",\"1990-07-03T00:00:00\",\"1990-07-04T00:00:00\",\"1990-07-05T00:00:00\",\"1990-07-06T00:00:00\",\"1990-07-07T00:00:00\",\"1990-07-08T00:00:00\",\"1990-07-09T00:00:00\",\"1990-07-10T00:00:00\",\"1990-07-11T00:00:00\",\"1990-07-12T00:00:00\",\"1990-07-13T00:00:00\",\"1990-07-14T00:00:00\",\"1990-07-15T00:00:00\",\"1990-07-16T00:00:00\",\"1990-07-17T00:00:00\",\"1990-07-18T00:00:00\",\"1990-07-19T00:00:00\",\"1990-07-20T00:00:00\",\"1990-07-21T00:00:00\",\"1990-07-22T00:00:00\",\"1990-07-23T00:00:00\",\"1990-07-24T00:00:00\",\"1990-07-25T00:00:00\",\"1990-07-26T00:00:00\",\"1990-07-27T00:00:00\",\"1990-07-28T00:00:00\",\"1990-07-29T00:00:00\",\"1990-07-30T00:00:00\",\"1990-07-31T00:00:00\",\"1990-08-01T00:00:00\",\"1990-08-02T00:00:00\",\"1990-08-03T00:00:00\",\"1990-08-04T00:00:00\",\"1990-08-05T00:00:00\",\"1990-08-06T00:00:00\",\"1990-08-07T00:00:00\",\"1990-08-08T00:00:00\",\"1990-08-09T00:00:00\",\"1990-08-10T00:00:00\",\"1990-08-11T00:00:00\",\"1990-08-12T00:00:00\",\"1990-08-13T00:00:00\",\"1990-08-14T00:00:00\",\"1990-08-15T00:00:00\",\"1990-08-16T00:00:00\",\"1990-08-17T00:00:00\",\"1990-08-18T00:00:00\",\"1990-08-19T00:00:00\",\"1990-08-20T00:00:00\",\"1990-08-21T00:00:00\",\"1990-08-22T00:00:00\",\"1990-08-23T00:00:00\",\"1990-08-24T00:00:00\",\"1990-08-25T00:00:00\",\"1990-08-26T00:00:00\",\"1990-08-27T00:00:00\",\"1990-08-28T00:00:00\",\"1990-08-29T00:00:00\",\"1990-08-30T00:00:00\",\"1990-08-31T00:00:00\",\"1990-09-01T00:00:00\",\"1990-09-02T00:00:00\",\"1990-09-03T00:00:00\",\"1990-09-04T00:00:00\",\"1990-09-05T00:00:00\",\"1990-09-06T00:00:00\",\"1990-09-07T00:00:00\",\"1990-09-08T00:00:00\",\"1990-09-09T00:00:00\",\"1990-09-10T00:00:00\",\"1990-09-11T00:00:00\",\"1990-09-12T00:00:00\",\"1990-09-13T00:00:00\",\"1990-09-14T00:00:00\",\"1990-09-15T00:00:00\",\"1990-09-16T00:00:00\",\"1990-09-17T00:00:00\",\"1990-09-18T00:00:00\",\"1990-09-19T00:00:00\",\"1990-09-20T00:00:00\",\"1990-09-21T00:00:00\",\"1990-09-22T00:00:00\",\"1990-09-23T00:00:00\",\"1990-09-24T00:00:00\",\"1990-09-25T00:00:00\",\"1990-09-26T00:00:00\",\"1990-09-27T00:00:00\",\"1990-09-28T00:00:00\",\"1990-09-29T00:00:00\",\"1990-09-30T00:00:00\",\"1990-10-01T00:00:00\",\"1990-10-02T00:00:00\",\"1990-10-03T00:00:00\",\"1990-10-04T00:00:00\",\"1990-10-05T00:00:00\",\"1990-10-06T00:00:00\",\"1990-10-07T00:00:00\",\"1990-10-08T00:00:00\",\"1990-10-09T00:00:00\",\"1990-10-10T00:00:00\",\"1990-10-11T00:00:00\",\"1990-10-12T00:00:00\",\"1990-10-13T00:00:00\",\"1990-10-14T00:00:00\",\"1990-10-15T00:00:00\",\"1990-10-16T00:00:00\",\"1990-10-17T00:00:00\",\"1990-10-18T00:00:00\",\"1990-10-19T00:00:00\",\"1990-10-20T00:00:00\",\"1990-10-21T00:00:00\",\"1990-10-22T00:00:00\",\"1990-10-23T00:00:00\",\"1990-10-24T00:00:00\",\"1990-10-25T00:00:00\",\"1990-10-26T00:00:00\",\"1990-10-27T00:00:00\",\"1990-10-28T00:00:00\",\"1990-10-29T00:00:00\",\"1990-10-30T00:00:00\",\"1990-10-31T00:00:00\",\"1990-11-01T00:00:00\",\"1990-11-02T00:00:00\",\"1990-11-03T00:00:00\",\"1990-11-04T00:00:00\",\"1990-11-05T00:00:00\",\"1990-11-06T00:00:00\",\"1990-11-07T00:00:00\",\"1990-11-08T00:00:00\",\"1990-11-09T00:00:00\",\"1990-11-10T00:00:00\",\"1990-11-11T00:00:00\",\"1990-11-12T00:00:00\",\"1990-11-13T00:00:00\",\"1990-11-14T00:00:00\",\"1990-11-15T00:00:00\",\"1990-11-16T00:00:00\",\"1990-11-17T00:00:00\",\"1990-11-18T00:00:00\",\"1990-11-19T00:00:00\",\"1990-11-20T00:00:00\",\"1990-11-21T00:00:00\",\"1990-11-22T00:00:00\",\"1990-11-23T00:00:00\",\"1990-11-24T00:00:00\",\"1990-11-25T00:00:00\",\"1990-11-26T00:00:00\",\"1990-11-27T00:00:00\",\"1990-11-28T00:00:00\",\"1990-11-29T00:00:00\",\"1990-11-30T00:00:00\",\"1990-12-01T00:00:00\",\"1990-12-02T00:00:00\",\"1990-12-03T00:00:00\",\"1990-12-04T00:00:00\",\"1990-12-05T00:00:00\",\"1990-12-06T00:00:00\",\"1990-12-07T00:00:00\",\"1990-12-08T00:00:00\",\"1990-12-09T00:00:00\",\"1990-12-10T00:00:00\",\"1990-12-11T00:00:00\",\"1990-12-12T00:00:00\",\"1990-12-13T00:00:00\",\"1990-12-14T00:00:00\",\"1990-12-15T00:00:00\",\"1990-12-16T00:00:00\",\"1990-12-17T00:00:00\",\"1990-12-18T00:00:00\",\"1990-12-19T00:00:00\",\"1990-12-20T00:00:00\",\"1990-12-21T00:00:00\",\"1990-12-22T00:00:00\",\"1990-12-23T00:00:00\",\"1990-12-24T00:00:00\",\"1990-12-25T00:00:00\",\"1990-12-26T00:00:00\",\"1990-12-27T00:00:00\",\"1990-12-28T00:00:00\",\"1990-12-29T00:00:00\",\"1990-12-30T00:00:00\",\"1990-12-31T00:00:00\"],\"xaxis\":\"x\",\"y\":[7.3,7.7,7.7,9.3,4.4,5.7,10.2,10.2,9.3,5.4,5.0,7.6,9.6,10.4,11.2,9.1,11.2,6.8,8.3,9.7,9.6,9.8,10.8,9.2,6.5,8.1,7.3,7.9,6.0,5.0,6.8,9.8,5.7,8.6,10.6,7.8,7.7,8.6,6.5,6.9,6.4,8.5,7.8,9.3,8.4,7.8,7.4,7.7,8.9,9.7,9.9,6.1,6.6,7.6,7.4,8.0,2.1,5.9,11.6,8.6,7.9,6.0,9.5,8.6,7.6,10.4,10.3,7.5,3.0,5.3,10.5,14.6,12.6,9.8,7.2,10.1,10.4,3.7,7.3,11.6,16.3,9.6,6.8,5.2,10.6,16.3,9.8,4.6,11.1,8.7,10.0,11.3,10.5,9.9,11.0,14.0,9.2,9.8,6.0,9.8,9.2,11.8,10.3,7.5,7.7,15.8,14.6,10.5,11.3,10.9,6.4,10.9,9.0,10.9,12.4,11.6,13.3,14.4,18.4,13.6,14.9,14.8,15.4,11.8,13.0,11.1,12.5,18.3,19.2,15.4,13.1,11.5,8.6,12.6,13.8,14.6,13.2,12.3,8.8,10.7,9.9,8.3,15.0,12.2,10.5,11.1,13.0,12.9,8.8,14.7,14.7,12.7,13.3,13.2,16.2,17.3,20.5,20.2,19.4,15.5,14.1,11.0,11.1,14.0,11.4,12.5,13.4,13.6,13.9,17.2,14.7,15.4,13.1,13.2,13.9,10.0,12.9,14.6,14.0,13.6,13.5,15.7,13.0],\"yaxis\":\"y\",\"type\":\"scatter\"},{\"hovertemplate\":\"variable=y_pred_wfv<br>Date=%{x}<br>minTemp=%{y}<extra></extra>\",\"legendgroup\":\"y_pred_wfv\",\"line\":{\"color\":\"#EF553B\",\"dash\":\"solid\"},\"marker\":{\"symbol\":\"circle\"},\"mode\":\"lines\",\"name\":\"y_pred_wfv\",\"orientation\":\"v\",\"showlegend\":true,\"x\":[\"1990-07-02T00:00:00\",\"1990-07-03T00:00:00\",\"1990-07-04T00:00:00\",\"1990-07-05T00:00:00\",\"1990-07-06T00:00:00\",\"1990-07-07T00:00:00\",\"1990-07-08T00:00:00\",\"1990-07-09T00:00:00\",\"1990-07-10T00:00:00\",\"1990-07-11T00:00:00\",\"1990-07-12T00:00:00\",\"1990-07-13T00:00:00\",\"1990-07-14T00:00:00\",\"1990-07-15T00:00:00\",\"1990-07-16T00:00:00\",\"1990-07-17T00:00:00\",\"1990-07-18T00:00:00\",\"1990-07-19T00:00:00\",\"1990-07-20T00:00:00\",\"1990-07-21T00:00:00\",\"1990-07-22T00:00:00\",\"1990-07-23T00:00:00\",\"1990-07-24T00:00:00\",\"1990-07-25T00:00:00\",\"1990-07-26T00:00:00\",\"1990-07-27T00:00:00\",\"1990-07-28T00:00:00\",\"1990-07-29T00:00:00\",\"1990-07-30T00:00:00\",\"1990-07-31T00:00:00\",\"1990-08-01T00:00:00\",\"1990-08-02T00:00:00\",\"1990-08-03T00:00:00\",\"1990-08-04T00:00:00\",\"1990-08-05T00:00:00\",\"1990-08-06T00:00:00\",\"1990-08-07T00:00:00\",\"1990-08-08T00:00:00\",\"1990-08-09T00:00:00\",\"1990-08-10T00:00:00\",\"1990-08-11T00:00:00\",\"1990-08-12T00:00:00\",\"1990-08-13T00:00:00\",\"1990-08-14T00:00:00\",\"1990-08-15T00:00:00\",\"1990-08-16T00:00:00\",\"1990-08-17T00:00:00\",\"1990-08-18T00:00:00\",\"1990-08-19T00:00:00\",\"1990-08-20T00:00:00\",\"1990-08-21T00:00:00\",\"1990-08-22T00:00:00\",\"1990-08-23T00:00:00\",\"1990-08-24T00:00:00\",\"1990-08-25T00:00:00\",\"1990-08-26T00:00:00\",\"1990-08-27T00:00:00\",\"1990-08-28T00:00:00\",\"1990-08-29T00:00:00\",\"1990-08-30T00:00:00\",\"1990-08-31T00:00:00\",\"1990-09-01T00:00:00\",\"1990-09-02T00:00:00\",\"1990-09-03T00:00:00\",\"1990-09-04T00:00:00\",\"1990-09-05T00:00:00\",\"1990-09-06T00:00:00\",\"1990-09-07T00:00:00\",\"1990-09-08T00:00:00\",\"1990-09-09T00:00:00\",\"1990-09-10T00:00:00\",\"1990-09-11T00:00:00\",\"1990-09-12T00:00:00\",\"1990-09-13T00:00:00\",\"1990-09-14T00:00:00\",\"1990-09-15T00:00:00\",\"1990-09-16T00:00:00\",\"1990-09-17T00:00:00\",\"1990-09-18T00:00:00\",\"1990-09-19T00:00:00\",\"1990-09-20T00:00:00\",\"1990-09-21T00:00:00\",\"1990-09-22T00:00:00\",\"1990-09-23T00:00:00\",\"1990-09-24T00:00:00\",\"1990-09-25T00:00:00\",\"1990-09-26T00:00:00\",\"1990-09-27T00:00:00\",\"1990-09-28T00:00:00\",\"1990-09-29T00:00:00\",\"1990-09-30T00:00:00\",\"1990-10-01T00:00:00\",\"1990-10-02T00:00:00\",\"1990-10-03T00:00:00\",\"1990-10-04T00:00:00\",\"1990-10-05T00:00:00\",\"1990-10-06T00:00:00\",\"1990-10-07T00:00:00\",\"1990-10-08T00:00:00\",\"1990-10-09T00:00:00\",\"1990-10-10T00:00:00\",\"1990-10-11T00:00:00\",\"1990-10-12T00:00:00\",\"1990-10-13T00:00:00\",\"1990-10-14T00:00:00\",\"1990-10-15T00:00:00\",\"1990-10-16T00:00:00\",\"1990-10-17T00:00:00\",\"1990-10-18T00:00:00\",\"1990-10-19T00:00:00\",\"1990-10-20T00:00:00\",\"1990-10-21T00:00:00\",\"1990-10-22T00:00:00\",\"1990-10-23T00:00:00\",\"1990-10-24T00:00:00\",\"1990-10-25T00:00:00\",\"1990-10-26T00:00:00\",\"1990-10-27T00:00:00\",\"1990-10-28T00:00:00\",\"1990-10-29T00:00:00\",\"1990-10-30T00:00:00\",\"1990-10-31T00:00:00\",\"1990-11-01T00:00:00\",\"1990-11-02T00:00:00\",\"1990-11-03T00:00:00\",\"1990-11-04T00:00:00\",\"1990-11-05T00:00:00\",\"1990-11-06T00:00:00\",\"1990-11-07T00:00:00\",\"1990-11-08T00:00:00\",\"1990-11-09T00:00:00\",\"1990-11-10T00:00:00\",\"1990-11-11T00:00:00\",\"1990-11-12T00:00:00\",\"1990-11-13T00:00:00\",\"1990-11-14T00:00:00\",\"1990-11-15T00:00:00\",\"1990-11-16T00:00:00\",\"1990-11-17T00:00:00\",\"1990-11-18T00:00:00\",\"1990-11-19T00:00:00\",\"1990-11-20T00:00:00\",\"1990-11-21T00:00:00\",\"1990-11-22T00:00:00\",\"1990-11-23T00:00:00\",\"1990-11-24T00:00:00\",\"1990-11-25T00:00:00\",\"1990-11-26T00:00:00\",\"1990-11-27T00:00:00\",\"1990-11-28T00:00:00\",\"1990-11-29T00:00:00\",\"1990-11-30T00:00:00\",\"1990-12-01T00:00:00\",\"1990-12-02T00:00:00\",\"1990-12-03T00:00:00\",\"1990-12-04T00:00:00\",\"1990-12-05T00:00:00\",\"1990-12-06T00:00:00\",\"1990-12-07T00:00:00\",\"1990-12-08T00:00:00\",\"1990-12-09T00:00:00\",\"1990-12-10T00:00:00\",\"1990-12-11T00:00:00\",\"1990-12-12T00:00:00\",\"1990-12-13T00:00:00\",\"1990-12-14T00:00:00\",\"1990-12-15T00:00:00\",\"1990-12-16T00:00:00\",\"1990-12-17T00:00:00\",\"1990-12-18T00:00:00\",\"1990-12-19T00:00:00\",\"1990-12-20T00:00:00\",\"1990-12-21T00:00:00\",\"1990-12-22T00:00:00\",\"1990-12-23T00:00:00\",\"1990-12-24T00:00:00\",\"1990-12-25T00:00:00\",\"1990-12-26T00:00:00\",\"1990-12-27T00:00:00\",\"1990-12-28T00:00:00\",\"1990-12-29T00:00:00\",\"1990-12-30T00:00:00\",\"1990-12-31T00:00:00\"],\"xaxis\":\"x\",\"y\":[7.337540114644996,7.367328115921188,7.596623294607694,7.504347919010644,8.64355743188742,5.596962615083451,7.025607738847491,9.590105472951247,9.081223683358091,8.705222604784751,6.587092047604922,6.7021664283429505,8.219294568961915,8.918567885370106,9.372488457487767,10.096741477767717,8.815009420717036,10.371733634505958,7.463420243761881,9.001233777887846,9.737900590750813,9.685453259025225,9.78607392042548,10.402282112923583,9.228650948319071,7.921905888702179,8.87636267393157,8.223715132844692,8.674969784337048,7.316867254209451,6.779251380125762,7.736113323380494,9.135014300615007,6.2539091276925864,8.559848411233462,9.345772691248632,7.691213623073674,7.958943933487857,8.543322950181604,7.337534449552276,7.932636580711126,7.289710368877709,8.684239214340394,8.033674238122064,8.889317764122273,8.192751236953228,8.072774915874518,7.800629134596353,8.101090614555828,8.773060280057908,9.27967353170273,9.34323400247654,7.180863225514139,7.804499469851169,8.190138294315323,7.942758716752046,8.300236820531508,4.684556896700463,7.39180160198411,10.11424728119561,7.6918841165504315,7.807616928220129,6.813517338131026,9.105756260794632,8.256519009374882,7.732180510093757,9.753737615719434,9.722596579564552,7.975380530811394,5.573758437297928,7.179715658753185,9.962054320279485,11.860046809338506,10.426153895276885,9.379306162540404,8.167466868364514,10.121805211509795,9.908224804631578,6.188116111863967,9.146730798744969,11.116486695372837,13.312099388940146,8.839348495765611,8.08355899663506,7.396973573372696,10.702871318084291,13.190797661443412,9.240481297391195,7.167377087641558,11.592043117504367,8.866249856081067,9.897653418459267,10.506927257821893,10.307326693409827,10.192837726533341,10.57761574297446,12.124306476301635,9.471497511532371,10.35898595029635,7.987432836833133,10.643436351604603,9.568643853152972,11.197882149720453,9.977286167295684,8.679197863462898,8.689375456843106,13.515355188743126,11.880762264387043,10.190262762583403,11.218418291358073,11.073929698280221,8.352675575406248,11.35637928031812,9.610712600532532,11.303465172768576,11.669911952508798,10.871645325280113,12.081610843382915,12.687673302875487,15.025145348765248,12.353603937510865,13.924218018740728,13.952382647065118,14.61978689523242,12.43102616326772,13.676532100955173,12.26675519818979,13.348936816565354,16.174431729610014,16.264278232987877,14.146894075202534,13.40678614459073,12.534234229455908,10.99159225458329,13.425098686798126,13.56357146406826,14.10304848753459,13.043864782429672,12.390588900452011,10.21633287164744,11.602642576520507,10.641472613117113,9.9187235667651,13.910509934810866,11.440609754099512,10.743467875327488,11.172111523827416,12.109008526411218,12.052161805388993,9.734728485939554,13.620798066400834,13.313686241801404,12.157043118557938,12.73238443208653,12.74487140897622,14.702644099046562,15.193699598558267,17.077499213671437,17.22149314388571,17.187986409113467,15.138954238616318,14.984440254961815,13.211064747876371,13.571358749061787,14.926841922233011,12.861190845218317,13.41587883877171,13.438600877792068,13.119217545871035,13.19078150801579,15.091434182821454,13.428720908439281,14.524582492490946,13.01200761891292,13.5030857413991,13.901138273039539,11.495651534258403,13.495799820613998,14.149503798241243,13.419218886673345,13.264935008594465,13.143313559780063,14.490619552327647],\"yaxis\":\"y\",\"type\":\"scatter\"}],                        {\"template\":{\"data\":{\"histogram2dcontour\":[{\"type\":\"histogram2dcontour\",\"colorbar\":{\"outlinewidth\":0,\"ticks\":\"\"},\"colorscale\":[[0.0,\"#0d0887\"],[0.1111111111111111,\"#46039f\"],[0.2222222222222222,\"#7201a8\"],[0.3333333333333333,\"#9c179e\"],[0.4444444444444444,\"#bd3786\"],[0.5555555555555556,\"#d8576b\"],[0.6666666666666666,\"#ed7953\"],[0.7777777777777778,\"#fb9f3a\"],[0.8888888888888888,\"#fdca26\"],[1.0,\"#f0f921\"]]}],\"choropleth\":[{\"type\":\"choropleth\",\"colorbar\":{\"outlinewidth\":0,\"ticks\":\"\"}}],\"histogram2d\":[{\"type\":\"histogram2d\",\"colorbar\":{\"outlinewidth\":0,\"ticks\":\"\"},\"colorscale\":[[0.0,\"#0d0887\"],[0.1111111111111111,\"#46039f\"],[0.2222222222222222,\"#7201a8\"],[0.3333333333333333,\"#9c179e\"],[0.4444444444444444,\"#bd3786\"],[0.5555555555555556,\"#d8576b\"],[0.6666666666666666,\"#ed7953\"],[0.7777777777777778,\"#fb9f3a\"],[0.8888888888888888,\"#fdca26\"],[1.0,\"#f0f921\"]]}],\"heatmap\":[{\"type\":\"heatmap\",\"colorbar\":{\"outlinewidth\":0,\"ticks\":\"\"},\"colorscale\":[[0.0,\"#0d0887\"],[0.1111111111111111,\"#46039f\"],[0.2222222222222222,\"#7201a8\"],[0.3333333333333333,\"#9c179e\"],[0.4444444444444444,\"#bd3786\"],[0.5555555555555556,\"#d8576b\"],[0.6666666666666666,\"#ed7953\"],[0.7777777777777778,\"#fb9f3a\"],[0.8888888888888888,\"#fdca26\"],[1.0,\"#f0f921\"]]}],\"heatmapgl\":[{\"type\":\"heatmapgl\",\"colorbar\":{\"outlinewidth\":0,\"ticks\":\"\"},\"colorscale\":[[0.0,\"#0d0887\"],[0.1111111111111111,\"#46039f\"],[0.2222222222222222,\"#7201a8\"],[0.3333333333333333,\"#9c179e\"],[0.4444444444444444,\"#bd3786\"],[0.5555555555555556,\"#d8576b\"],[0.6666666666666666,\"#ed7953\"],[0.7777777777777778,\"#fb9f3a\"],[0.8888888888888888,\"#fdca26\"],[1.0,\"#f0f921\"]]}],\"contourcarpet\":[{\"type\":\"contourcarpet\",\"colorbar\":{\"outlinewidth\":0,\"ticks\":\"\"}}],\"contour\":[{\"type\":\"contour\",\"colorbar\":{\"outlinewidth\":0,\"ticks\":\"\"},\"colorscale\":[[0.0,\"#0d0887\"],[0.1111111111111111,\"#46039f\"],[0.2222222222222222,\"#7201a8\"],[0.3333333333333333,\"#9c179e\"],[0.4444444444444444,\"#bd3786\"],[0.5555555555555556,\"#d8576b\"],[0.6666666666666666,\"#ed7953\"],[0.7777777777777778,\"#fb9f3a\"],[0.8888888888888888,\"#fdca26\"],[1.0,\"#f0f921\"]]}],\"surface\":[{\"type\":\"surface\",\"colorbar\":{\"outlinewidth\":0,\"ticks\":\"\"},\"colorscale\":[[0.0,\"#0d0887\"],[0.1111111111111111,\"#46039f\"],[0.2222222222222222,\"#7201a8\"],[0.3333333333333333,\"#9c179e\"],[0.4444444444444444,\"#bd3786\"],[0.5555555555555556,\"#d8576b\"],[0.6666666666666666,\"#ed7953\"],[0.7777777777777778,\"#fb9f3a\"],[0.8888888888888888,\"#fdca26\"],[1.0,\"#f0f921\"]]}],\"mesh3d\":[{\"type\":\"mesh3d\",\"colorbar\":{\"outlinewidth\":0,\"ticks\":\"\"}}],\"scatter\":[{\"fillpattern\":{\"fillmode\":\"overlay\",\"size\":10,\"solidity\":0.2},\"type\":\"scatter\"}],\"parcoords\":[{\"type\":\"parcoords\",\"line\":{\"colorbar\":{\"outlinewidth\":0,\"ticks\":\"\"}}}],\"scatterpolargl\":[{\"type\":\"scatterpolargl\",\"marker\":{\"colorbar\":{\"outlinewidth\":0,\"ticks\":\"\"}}}],\"bar\":[{\"error_x\":{\"color\":\"#2a3f5f\"},\"error_y\":{\"color\":\"#2a3f5f\"},\"marker\":{\"line\":{\"color\":\"#E5ECF6\",\"width\":0.5},\"pattern\":{\"fillmode\":\"overlay\",\"size\":10,\"solidity\":0.2}},\"type\":\"bar\"}],\"scattergeo\":[{\"type\":\"scattergeo\",\"marker\":{\"colorbar\":{\"outlinewidth\":0,\"ticks\":\"\"}}}],\"scatterpolar\":[{\"type\":\"scatterpolar\",\"marker\":{\"colorbar\":{\"outlinewidth\":0,\"ticks\":\"\"}}}],\"histogram\":[{\"marker\":{\"pattern\":{\"fillmode\":\"overlay\",\"size\":10,\"solidity\":0.2}},\"type\":\"histogram\"}],\"scattergl\":[{\"type\":\"scattergl\",\"marker\":{\"colorbar\":{\"outlinewidth\":0,\"ticks\":\"\"}}}],\"scatter3d\":[{\"type\":\"scatter3d\",\"line\":{\"colorbar\":{\"outlinewidth\":0,\"ticks\":\"\"}},\"marker\":{\"colorbar\":{\"outlinewidth\":0,\"ticks\":\"\"}}}],\"scattermapbox\":[{\"type\":\"scattermapbox\",\"marker\":{\"colorbar\":{\"outlinewidth\":0,\"ticks\":\"\"}}}],\"scatterternary\":[{\"type\":\"scatterternary\",\"marker\":{\"colorbar\":{\"outlinewidth\":0,\"ticks\":\"\"}}}],\"scattercarpet\":[{\"type\":\"scattercarpet\",\"marker\":{\"colorbar\":{\"outlinewidth\":0,\"ticks\":\"\"}}}],\"carpet\":[{\"aaxis\":{\"endlinecolor\":\"#2a3f5f\",\"gridcolor\":\"white\",\"linecolor\":\"white\",\"minorgridcolor\":\"white\",\"startlinecolor\":\"#2a3f5f\"},\"baxis\":{\"endlinecolor\":\"#2a3f5f\",\"gridcolor\":\"white\",\"linecolor\":\"white\",\"minorgridcolor\":\"white\",\"startlinecolor\":\"#2a3f5f\"},\"type\":\"carpet\"}],\"table\":[{\"cells\":{\"fill\":{\"color\":\"#EBF0F8\"},\"line\":{\"color\":\"white\"}},\"header\":{\"fill\":{\"color\":\"#C8D4E3\"},\"line\":{\"color\":\"white\"}},\"type\":\"table\"}],\"barpolar\":[{\"marker\":{\"line\":{\"color\":\"#E5ECF6\",\"width\":0.5},\"pattern\":{\"fillmode\":\"overlay\",\"size\":10,\"solidity\":0.2}},\"type\":\"barpolar\"}],\"pie\":[{\"automargin\":true,\"type\":\"pie\"}]},\"layout\":{\"autotypenumbers\":\"strict\",\"colorway\":[\"#636efa\",\"#EF553B\",\"#00cc96\",\"#ab63fa\",\"#FFA15A\",\"#19d3f3\",\"#FF6692\",\"#B6E880\",\"#FF97FF\",\"#FECB52\"],\"font\":{\"color\":\"#2a3f5f\"},\"hovermode\":\"closest\",\"hoverlabel\":{\"align\":\"left\"},\"paper_bgcolor\":\"white\",\"plot_bgcolor\":\"#E5ECF6\",\"polar\":{\"bgcolor\":\"#E5ECF6\",\"angularaxis\":{\"gridcolor\":\"white\",\"linecolor\":\"white\",\"ticks\":\"\"},\"radialaxis\":{\"gridcolor\":\"white\",\"linecolor\":\"white\",\"ticks\":\"\"}},\"ternary\":{\"bgcolor\":\"#E5ECF6\",\"aaxis\":{\"gridcolor\":\"white\",\"linecolor\":\"white\",\"ticks\":\"\"},\"baxis\":{\"gridcolor\":\"white\",\"linecolor\":\"white\",\"ticks\":\"\"},\"caxis\":{\"gridcolor\":\"white\",\"linecolor\":\"white\",\"ticks\":\"\"}},\"coloraxis\":{\"colorbar\":{\"outlinewidth\":0,\"ticks\":\"\"}},\"colorscale\":{\"sequential\":[[0.0,\"#0d0887\"],[0.1111111111111111,\"#46039f\"],[0.2222222222222222,\"#7201a8\"],[0.3333333333333333,\"#9c179e\"],[0.4444444444444444,\"#bd3786\"],[0.5555555555555556,\"#d8576b\"],[0.6666666666666666,\"#ed7953\"],[0.7777777777777778,\"#fb9f3a\"],[0.8888888888888888,\"#fdca26\"],[1.0,\"#f0f921\"]],\"sequentialminus\":[[0.0,\"#0d0887\"],[0.1111111111111111,\"#46039f\"],[0.2222222222222222,\"#7201a8\"],[0.3333333333333333,\"#9c179e\"],[0.4444444444444444,\"#bd3786\"],[0.5555555555555556,\"#d8576b\"],[0.6666666666666666,\"#ed7953\"],[0.7777777777777778,\"#fb9f3a\"],[0.8888888888888888,\"#fdca26\"],[1.0,\"#f0f921\"]],\"diverging\":[[0,\"#8e0152\"],[0.1,\"#c51b7d\"],[0.2,\"#de77ae\"],[0.3,\"#f1b6da\"],[0.4,\"#fde0ef\"],[0.5,\"#f7f7f7\"],[0.6,\"#e6f5d0\"],[0.7,\"#b8e186\"],[0.8,\"#7fbc41\"],[0.9,\"#4d9221\"],[1,\"#276419\"]]},\"xaxis\":{\"gridcolor\":\"white\",\"linecolor\":\"white\",\"ticks\":\"\",\"title\":{\"standoff\":15},\"zerolinecolor\":\"white\",\"automargin\":true,\"zerolinewidth\":2},\"yaxis\":{\"gridcolor\":\"white\",\"linecolor\":\"white\",\"ticks\":\"\",\"title\":{\"standoff\":15},\"zerolinecolor\":\"white\",\"automargin\":true,\"zerolinewidth\":2},\"scene\":{\"xaxis\":{\"backgroundcolor\":\"#E5ECF6\",\"gridcolor\":\"white\",\"linecolor\":\"white\",\"showbackground\":true,\"ticks\":\"\",\"zerolinecolor\":\"white\",\"gridwidth\":2},\"yaxis\":{\"backgroundcolor\":\"#E5ECF6\",\"gridcolor\":\"white\",\"linecolor\":\"white\",\"showbackground\":true,\"ticks\":\"\",\"zerolinecolor\":\"white\",\"gridwidth\":2},\"zaxis\":{\"backgroundcolor\":\"#E5ECF6\",\"gridcolor\":\"white\",\"linecolor\":\"white\",\"showbackground\":true,\"ticks\":\"\",\"zerolinecolor\":\"white\",\"gridwidth\":2}},\"shapedefaults\":{\"line\":{\"color\":\"#2a3f5f\"}},\"annotationdefaults\":{\"arrowcolor\":\"#2a3f5f\",\"arrowhead\":0,\"arrowwidth\":1},\"geo\":{\"bgcolor\":\"white\",\"landcolor\":\"#E5ECF6\",\"subunitcolor\":\"white\",\"showland\":true,\"showlakes\":true,\"lakecolor\":\"white\"},\"title\":{\"x\":0.05},\"mapbox\":{\"style\":\"light\"}}},\"xaxis\":{\"anchor\":\"y\",\"domain\":[0.0,1.0],\"title\":{\"text\":\"Date\"}},\"yaxis\":{\"anchor\":\"x\",\"domain\":[0.0,1.0],\"title\":{\"text\":\"minTemp\"}},\"legend\":{\"title\":{\"text\":\"variable\"},\"tracegroupgap\":0},\"margin\":{\"t\":60}},                        {\"responsive\": true}                    ).then(function(){\n",
       "                            \n",
       "var gd = document.getElementById('dd107176-6ced-442f-8538-ffe0306ab9e8');\n",
       "var x = new MutationObserver(function (mutations, observer) {{\n",
       "        var display = window.getComputedStyle(gd).display;\n",
       "        if (!display || display === 'none') {{\n",
       "            console.log([gd, 'removed!']);\n",
       "            Plotly.purge(gd);\n",
       "            observer.disconnect();\n",
       "        }}\n",
       "}});\n",
       "\n",
       "// Listen for the removal of the full notebook cells\n",
       "var notebookContainer = gd.closest('#notebook-container');\n",
       "if (notebookContainer) {{\n",
       "    x.observe(notebookContainer, {childList: true});\n",
       "}}\n",
       "\n",
       "// Listen for the clearing of the current output cell\n",
       "var outputEl = gd.closest('.output');\n",
       "if (outputEl) {{\n",
       "    x.observe(outputEl, {childList: true});\n",
       "}}\n",
       "\n",
       "                        })                };                });            </script>        </div>"
      ]
     },
     "metadata": {},
     "output_type": "display_data"
    }
   ],
   "source": [
    "df_pred_test=pd.DataFrame(\n",
    "{\"y_test\":y_test,\"y_pred_wfv\":y_pred_wfv},index=y_test.index\n",
    ")\n",
    "fig=px.line(df_pred_test,labels={\"value\":\"minTemp\"})\n",
    "fig.show()"
   ]
  },
  {
   "cell_type": "markdown",
   "id": "b6ac8208",
   "metadata": {},
   "source": [
    "<p style=\"border-bottom:2px solid black;padding:5px;color:#fff;background-color:#222;border-radius:5px;height:100px;line-height:100px;font-size:30px;text-align:left\">\n",
    "2nd model\n",
    "</p>"
   ]
  },
  {
   "cell_type": "code",
   "execution_count": null,
   "id": "28b26034",
   "metadata": {},
   "outputs": [],
   "source": []
  }
 ],
 "metadata": {
  "kernelspec": {
   "display_name": "Python 3 (ipykernel)",
   "language": "python",
   "name": "python3"
  },
  "language_info": {
   "codemirror_mode": {
    "name": "ipython",
    "version": 3
   },
   "file_extension": ".py",
   "mimetype": "text/x-python",
   "name": "python",
   "nbconvert_exporter": "python",
   "pygments_lexer": "ipython3",
   "version": "3.9.13"
  }
 },
 "nbformat": 4,
 "nbformat_minor": 5
}
